{
 "cells": [
  {
   "cell_type": "code",
   "execution_count": 3,
   "metadata": {},
   "outputs": [
    {
     "name": "stdout",
     "output_type": "stream",
     "text": [
      "I am a catfish\n"
     ]
    }
   ],
   "source": [
    "i = True or False and False\n",
    "s = fr'I am a {(('cat' * i))}fish{'.' * (not i)}'\n",
    "print(s)\n",
    "\n",
    "# Output:\n",
    "#   A: I am a catcatfish.\n",
    "#   B: I am a catfishfish.\n",
    "#   C: I am a catfish.\n",
    "#   D: I am a cat.\n",
    "#   E: I am a fish.\n",
    "#   F: 以上皆非"
   ]
  }
 ],
 "metadata": {
  "kernelspec": {
   "display_name": "Python 3",
   "language": "python",
   "name": "python3"
  },
  "language_info": {
   "codemirror_mode": {
    "name": "ipython",
    "version": 3
   },
   "file_extension": ".py",
   "mimetype": "text/x-python",
   "name": "python",
   "nbconvert_exporter": "python",
   "pygments_lexer": "ipython3",
   "version": "3.13.0"
  }
 },
 "nbformat": 4,
 "nbformat_minor": 2
}
