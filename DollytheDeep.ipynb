{
 "cells": [
  {
   "cell_type": "code",
   "execution_count": 12,
   "metadata": {},
   "outputs": [
    {
     "data": {
      "application/javascript": "// Define a global color variable\nconst mainColor = '#c586c0'; //LightSkyBlue';\n\n// Apply the color globally using CSS\ndocument.documentElement.style.setProperty('--main-color', mainColor);\n\n// Set output text color\ndocument.styleSheets[0].insertRule('body { color: var(--main-color) !important; }', 0);\n",
      "text/plain": [
       "<IPython.core.display.Javascript object>"
      ]
     },
     "metadata": {},
     "output_type": "display_data"
    }
   ],
   "source": [
    "%%javascript\n",
    "// Define a global color variable\n",
    "const mainColor = '#c586c0'; //LightSkyBlue';\n",
    "\n",
    "// Apply the color globally using CSS\n",
    "document.documentElement.style.setProperty('--main-color', mainColor);\n",
    "\n",
    "// Set output text color\n",
    "document.styleSheets[0].insertRule('body { color: var(--main-color) !important; }', 0);\n"
   ]
  },
  {
   "cell_type": "markdown",
   "metadata": {},
   "source": [
    "<br><br>\n",
    "<div style=\"\n",
    "  font-family: 'Gen Jyuu Gothic Monospace Medium', 'Noto Sans TC', 'Inconsolata'; \n",
    "  font-size: 500%; \n",
    "  font-weight: 700; \n",
    "  text-align: center; \n",
    "  color: var(--main-color);\">\n",
    "  Dolly the Deep\n",
    "</div>\n",
    "<br><br>\n"
   ]
  },
  {
   "cell_type": "code",
   "execution_count": 3,
   "metadata": {},
   "outputs": [
    {
     "name": "stdout",
     "output_type": "stream",
     "text": [
      "Scribo, ergo sum.\n",
      "Sum, ergo scribo.\n"
     ]
    }
   ],
   "source": [
    "print('Scribo, ergo sum.')   # 我code故我在\n",
    "print('Sum, ergo scribo.')   # 我在故我code"
   ]
  },
  {
   "cell_type": "markdown",
   "metadata": {},
   "source": [
    "<div style=\"text-align:center\"><img src=\"./images/Dolly_face_closeup.jpg\" width=\"500\"/></div>\n",
    "<br>\n",
    "<div style=\"font-family: 'Inconsolata', 'Noto Sans TC'; font-size: 110%; color: LightYellow; font-weight: 400;\">\n",
    "\n",
    "* Dolly the Sheep\n",
    "\n",
    "    「桃莉羊」(1996-07-05 ~ 2003-02-14)是運用細胞核移植技術，利用哺乳動物的成年體細胞培育出的雌性綿羊。她是史上<font color='Gold'>第一隻從成年細胞複製(clone)出來的哺乳動物</font>。\n",
    "\n",
    "    In 1996, Dolly the Sheep captured the world's imagination as a groundbreaking example of `cloning`. In the programming world, `cloning` isn't as revolutionary, but it comes with its own complexities. Python developers often face the dilemma of choosing between `shallow` and `deep` copying, concepts that may seem deceptively simple but hold intricate implications. Let’s dive into these ideas using our metaphorical Dolly: Dolly the Deep.\n",
    "\n",
    "</div>\n",
    "\n"
   ]
  },
  {
   "cell_type": "code",
   "execution_count": null,
   "metadata": {},
   "outputs": [],
   "source": [
    "my_str = 'Alex'\n",
    "print(my_str, end='\\t')  # my_str內容是'Alex'。\n",
    "my_str = 'Becca'\n",
    "print(my_str)            # 改為'Becca'。\n",
    "\n",
    "my_int = 3\n",
    "print(my_int, end='\\t')  # my_int內容是3。\n",
    "my_int = 5\n",
    "print(my_int)            # 改為5。"
   ]
  },
  {
   "cell_type": "markdown",
   "metadata": {},
   "source": [
    "<span style=\"font-size: 180%; color: DeepSkyBlue; font-weight: 600;\">複製</span>\n",
    "\n",
    "「複製」(copy)，驟眼看來是個非常容易理解的動作。不就是製造一份內容和母資料完全相同的副本嗎？\n",
    "\n",
    "然而這個我們覺得很簡單的行為，在電腦上其實大有學問。尤其是在物件導向(Object Oriented)的領域，[object copying是個不算小的議題。](https://en.wikipedia.org/wiki/Object_copying \"可以參考這裡：Wiki對object copying的解釋。\")\n",
    "\n",
    "首先，大家得先了解兩個名詞：shallow copy(淺複製)以及deep copy(深複製)。以下筆者嘗試運用有限的知識，淺顯解釋這兩個觀念在Python上的意義和運作。\n"
   ]
  },
  {
   "cell_type": "markdown",
   "metadata": {},
   "source": [
    "\n",
    "<span style=\"font-size: 150%; color: Pink; font-weight: 600;\">Shallow Copy對上Deep Copy</span>\n",
    "\n",
    "* 先直接引用Python官網上的解釋：\n",
    "    > The difference between shallow and deep copying is only relevant for compound objects (objects that contain other objects, like lists or class instances):\n",
    "    >\n",
    "    > A `shallow copy` constructs a new compound object and then (to the extent possible) inserts _references_ into it to the objects found in the original.\n",
    "    >\n",
    "    > A `deep copy` constructs a new compound object and then, recursively, inserts _copies_ into it of the objects found in the original.\n",
    "\n",
    "上面這段話的大意和延伸說明是：shallow copy和deep copy間的差異，只在複製<span style=\"color: Crimson;\">複合物件</span>(compound objects)時才會顯出。如果有一物件A，A之中包含了其他物件a1, a2,...等，那麼A就是複合物件，例如lists或類別的實例就屬於複合物件。Python的str也算是複合物件，因為str由characters物件組成。和複合物件相對的是int, float, bool等純含值而不含其他物件的簡單物件。\n"
   ]
  },
  {
   "cell_type": "markdown",
   "metadata": {},
   "source": [
    "\n",
    "<span style=\"font-size: 125%; color: SandyBrown; font-weight: 600;\">Shallow Copy</span>\n",
    "\n",
    "* shallow copy會<span style=\"color: Crimson;\">製造出另一個新的複合物件</span>。假設原物件為A，新物件為B，shallow copy後A, B兩者的references不會相同(如不求精準，大致可說reference是物件在記憶體中的位址)。用`id()`檢查，`id(A)`並不等於`id(B)`；`A is B`時傳回`False`。\n",
    "* 除此之外，對A的子物件，就不再產生新物件，僅複製其references，放入B的相對位置。淺複製的結果是<span style=\"color: Crimson;\">新舊物件(本例是A和B)本尊的references不同，但兩者內所有子物件的references皆兩兩相等。</span>\n",
    "* 其中一個物件的子物件值如有修改，另一物件相對應的子物件亦「可能」隨之修改。至於為甚麼是「可能」而非「一定」隨之修改，且看後面的更進一步說明。\n",
    "\n",
    "<div style=\"text-align:center\"><img src=\"./images/shallow_copy.jpg\" width=\"500\";></div>\n",
    "\n",
    "* 上圖的A假設是個list，位址簡化作01，有3個元素，位址分別是11, 12, 13。A[0]是字串，其值為`\"a\";`A[1]是整數，值為3；而A[2]也是個list，內有2個元素，位址在21和22，其值分別為字串`\"ab\"`及`True`。\n",
    "* copy後B的位址為F1，特別用<span style=\"color: Red;\">紅色</span>標示，表示和A不同。這也是上圖唯一紅色的位址，除了B本尊外，它子子孫孫的位址都和A的子孫兩兩相等。\n"
   ]
  },
  {
   "cell_type": "markdown",
   "metadata": {},
   "source": [
    "\n",
    "<span style=\"font-size: 125%; color: SandyBrown; font-weight: 600;\">Deep Copy</span>\n",
    "\n",
    "* deep copy則是在製造出另一個新複合物件後，再對原物件內的子物件逐一複製，<span style=\"color: Crimson;\">賦予新的references</span>。子物件本身如果也有子子物件，亦一層一層地輪流複製。這就是上面官網說的`'recursively'`的意思。\n",
    "* 由於都已賦予新的references，複製完成後，新物件的內容固然和原物件完全相同，但已獨立於原物件。這時<span style=\"color: Crimson;\">修改任何一物件或其子物件的內容，都不會影響到另一物件。</span>\n",
    "* 根據以上的說明，deep copy圖示理應如下：\n",
    "<div style=\"text-align:center\"><img src=\"./images/deep_copy理應如此？.jpg\" width=\"500\"/></div>        \n",
    "* 圖中B本身(F1)和它所有子子孫孫物件的references(A1, A2, A3, B1, B2)都用<span style=\"color: Red;\">紅色</span>標示，表示這些references和A相對應的子物件都不一樣。\n",
    "* 上圖<span style=\"color: Crimson;\">非常接近，但未完全符合事實。</span>原因在一個我們還沒有討論到的層面：Python物件<span style='CuiLv'>「是否可變」(mutability)問題</span>。這個因素影響了deep copy的行為。\n"
   ]
  },
  {
   "cell_type": "markdown",
   "metadata": {},
   "source": [
    "\n",
    "下面暫時岔開，先搞通mutability這玩意兒。\n",
    "<span style=\"font-size: 120%; color: Pink; font-weight: 600;\">Mutability(是否可變)</span>\n",
    "先看以下C#程式。程式沒做甚麼，就宣告一個變數同時賦值(line 19)，再更改其值(line 21)。改值前後都印出其值及位址，如此而已。要觀察的是變數改值前後，記憶體位址有無更動。\n",
    "```csharp=\n",
    "using System;\n",
    "class MyClass\n",
    "{\n",
    "    public unsafe void PrintInfo(int myInt, string prompt)\n",
    "    {\n",
    "        int* ptrMyInt = &myInt;\n",
    "        Console.WriteLine(prompt);\n",
    "        Console.WriteLine(\"{0}{1} {2}    {3} {4}\", \n",
    "            nameof(myInt), \"值：\", myInt, \"位址：\", (int)ptrMyInt);\n",
    "        Console.WriteLine();\n",
    "    }\n",
    "}\n",
    "\n",
    "class MyClient\n",
    "{\n",
    "    public static void Main()\n",
    "    {\n",
    "        MyClass myClass = new MyClass();\n",
    "        int i = 3;\n",
    "        myClass.PrintInfo(i, \"Before change\");\n",
    "        i = 5;\n",
    "        myClass.PrintInfo(i, \"After change\");\n",
    "        Console.ReadLine();\n",
    "    }\n",
    "}\n",
    "```\n",
    "程式輸出如下，如大家預料，變數`i(myInt)`改值前後，位址保持不變。大家可能會說：這是common sense，本來就該如此。難道府上翻新了裝潢，更換了家具，地址就會改變嗎？\n",
    "![](https://i.imgur.com/k2zfffb.png =550x)\n",
    "\n",
    "    "
   ]
  },
  {
   "cell_type": "markdown",
   "metadata": {},
   "source": [
    "    \n",
    "世事難料。有時換了家具，地址也當真跟著更換。\n",
    "\n",
    "換家具後連地址也跟著換這個點有點玄的說法暫擱下，但請記住。我們先談資料型別和mutability：\n",
    "\n",
    "Python的常用內建資料型別(built-in types)之中，有些是mutable，即內容值可以更改；有些則屬於immutable，意思是變數一旦建立，其值就不允許更改。下表列出一些常用資料型別的mutability特性：\n"
   ]
  },
  {
   "cell_type": "markdown",
   "metadata": {},
   "source": [
    "\n",
    "|內容可否改變|資料型別|\n",
    "|:---|:---|\n",
    "|mutable(可改變)  |list, dict, set, bytearray|\n",
    "|immutable(不可變)|int, float, complex, str, bool, bytes, </br>tuple, frozenset(immutable version of set)|\n",
    "        \n",
    "別懷疑：int, str等資料型別真的屬於immutable「內容不可修改」這類。各位可能會說：明明我可以像下面這樣寫程式修改int和str的內容，為甚麼說int和str是不可以改變的呢？\n",
    "```python=\n",
    "my_tr = 'Alex'\n",
    "print(my_str, end='\\t')  # my_str內容是'Alex'。\n",
    "my_str = 'Becca'\n",
    "print(my_str)            # 改為'Becca'。\n",
    "\n",
    "print()\n",
    "my_int = 3\n",
    "print(my_int, end='\\t')  # my_int內容是3。\n",
    "my_int = 5\n",
    "print(my_int)            # 改為5。\n",
    "```\n",
    "程式輸出如下：\n",
    "![](https://i.imgur.com/lacQLyU.png =440x)\n",
    "\n",
    "以上程式myStr和myInt的值明明有更改。所以...有沒搞錯？為甚麼說str和int是immutable？\n"
   ]
  },
  {
   "cell_type": "markdown",
   "metadata": {},
   "source": [
    "\n",
    "筆者可沒有搞錯，str和int的確是不可以更改的。請大家耐心看下去，再詳細觀察，就了解這些值的「更改」，和上面C#程式的「變數改值」運作(也就是一般人的認知)並不相同。請看下面的程式碼：\n",
    "```python=\n",
    "def showThese(oldStr, newStr, oldInt, newInt, prompt):\n",
    "    print()\n",
    "    print(prompt)\n",
    "    print(f'  oldStr: {oldStr} \\t id: {id(oldStr)}')   # 注意id。\n",
    "    print(f'  newStr: {newStr} \\t id: {id(newStr):<20}', end='')   # 注意id。\n",
    "    print(f'newStr is oldStr: {newStr is oldStr}')   # 檢查兩者的id是否相同。\n",
    "    print()\n",
    "    print(f'  oldInt: {oldInt} \\t id: {id(oldInt)}')   # 注意id。\n",
    "    print(f'  newInt: {newInt} \\t id: {id(newInt):<20}', end='')   # 注意id。\n",
    "    print(f'newInt is oldInt: {newInt is oldInt}')   # 檢查兩者的id是否相同。\n",
    "    print()\n",
    "\n",
    "oldStr = 'Al'\n",
    "oldInt = 3\n",
    "newStr = oldStr\n",
    "newInt = oldInt\n",
    "showThese(oldStr, newStr, oldInt, newInt, 'Before change')\n",
    "\n",
    "oldStr = 'Bo'\n",
    "oldInt = 5\n",
    "showThese(oldStr, newStr, oldInt, newInt, 'After change')\n",
    "```\n",
    "程式輸出如下圖：\n",
    "![](https://i.imgur.com/VY2C2me.png =600x)\n",
    "\n",
    "在[CPython](https://zh.wikipedia.org/wiki/CPython \"CPython是用C語言撰寫的Python interpreter。它是Python語言的官方實作，也是使用最廣泛的直譯器。\")中，`id(x)`傳回物件x在記憶體中的位址，不求用詞精準的話，約略等於x的reference。`id()`不同，references也就相異，代表不同的物件；`id()`相同，reference亦無二致，當然是同一事物。以上程式顯示，oldStr和oldInt在「賦予新值」之後，自己竟然改變了位址。和一般認知的<span style=\"color: LightCoral;\">「變數位址固定，改變的是其內容值」</span>的觀念(如上面展示的C#程式)大相徑庭。\n",
    "\n",
    "究竟誰在變？[物件化蝶，還是蝶化物件？](https://zh.wikipedia.org/wiki/%E5%BA%84%E5%91%A8%E6%A2%A6%E8%9D%B6)\n",
    "\n",
    ":::info\n",
    "各位如無莊子的慧根，單憑上面的程式和輸出，一時片刻未能領悟變蝶或蝶變，不，是變數改值或改位址這道千古難題，請看下面的詳細說明。倘若一看程式就幻化成彩蝶，恭喜，以下這幾個記憶體圖解您可以跳過不理。\n",
    ":::\n"
   ]
  },
  {
   "cell_type": "markdown",
   "metadata": {},
   "source": [
    "\n",
    "<span style=\"font-size: 120%; color: Pink; font-weight: 600;\">Python對物件(變數)改值的處理機制</span>\n",
    "\n",
    "在一些其他語言(C, C++...)，修改一個變數的值，尤其是int, float等數值型別，就是將該變數所在的那塊記憶體的內容以新值取代。變數本身的位址是不會變動的。以上的C#的程式已有證實。\n",
    "\n",
    "然而在Python卻是another story。執行`myInt = 3`指令時，<font color=#FF00FF>與其說給`myInt`變數賦予3這個值，</font><span style=\"color: Crimson;\">不如說「先找出一塊內容為3的記憶體，然後將變數名稱`myInt`當作『標籤』，貼到該塊記憶體上。</span>下圖的`id: 495018272`就是Python內部幫`'myInt'`找到的記憶體位址[^id和位址]。找到位址後，將myInt貼了上去。\n",
    "　　　　　　　　　　　　　　　![](https://i.imgur.com/d9iGYU1.png \"Python給變數賦值，是找一塊具有該值的記憶體，然後將變數的名稱當作「標籤」，貼到該塊記憶體上。\" =x150)<span style=\"color: Crimson;\">變數要找記憶體投靠。</span>\n",
    "\n",
    "其後，我們如要更改`myInt`的值，例如`myInt = 5`，Python的做法<span style=\"color: Crimson;\">並『不是』如下圖那樣</span>，將原本存放3的那塊記憶體(`id: 495018272`)的內容改為5：\n",
    "　　　　　　　　![](https://i.imgur.com/qi34Tz0.png =80x)　　![](https://i.imgur.com/6mF6UHe.png \"Python的變數改值，並不是更改原記憶體的內容。\" =x150)<span style=\"color: Crimson;\">  No, 這不是Python的做法喔。</span>\n",
    "\n",
    "而是先將`myInt`這個標籤從內容為3的記憶體(`id: 495018272`)撕下，另找一塊內容為5的記憶體(本例為`id: 495018336`)，找不到就分配一塊，然後將撕下的`myInt`標籤改貼到這塊新找到的記憶體上。新的記憶體有可能已經有其他變數標籤(如下圖的`othInt`)，那沒有關係，Python允許在同一塊記憶體貼上多個變數標籤。\n",
    "　　　![](https://i.imgur.com/4GSatph.png =80x)　　![](https://i.imgur.com/yySRfre.png \"Python的變數改值，其實是另找一塊具有新值的記憶體，再貼上變數的標籤。\" =x200)<span style=\"color: Crimson;\"> 這才是Python的做法。</span>\n",
    "\n",
    "<span style='adv'>`myInt`的「值」，亦即記憶體的內容，一旦賦予就不能改變，但`myInt`「本身」卻可以變。</span>這就是Python的immutable資料型別的真正含義和運作方式。\n",
    "\n",
    ":::danger\n",
    "Quiz:\n",
    "對內容「可否更改」，上面舉的範例是int，其實看str可能更為清楚。各位請自行推敲下面這段程式碼會有甚麼結果，以及為甚麼：\n",
    "```python=\n",
    "myStr = 'abcde'\n",
    "myStr = '13579'\n",
    "myStr[0] = 'x'\n",
    "```\n",
    ":::\n",
    "\n",
    "---\n",
    "<span style=\"font-size: 120%; color: Pink; font-weight: 600;\">「改值」議題小結</span>\n",
    "對於str, int等immutable資料型別的變數，「表面上」是可以改值的。不過在Python內部變數的值根本沒有改，而是將自己作為標籤附麗到其他記憶體。改的是變數的reference，而不是它的「值」。好有一比，外表是休掉正室，另娶小三，實則為妻所休，只好入贅小三她家:worried:。\n",
    "\n",
    ":::info\n",
    "認識以上機制，對理解已打入冷宫一段時間的Python deep copy有很大幫助。\n",
    ":::\n",
    "\n",
    "<span style='QA'>Q & A</span>\n",
    "\n",
    "<span style=\"font-size: 120%; color: Pink; font-weight: 600;\">回頭再談Shallow copy和Deep copy</span>\n",
    "\n",
    "岔開很久了，現在我們趕快回到Python的deep copy這條主線：像int, str等immutable物件(變數)，既然只可以更改references而不准許更改內容值(values)，那麼就沒有必要在不同的記憶體位址儲存相同內容了。例如要存3這個值，只要找一塊記憶體儲存就行。不必A1位址存了3，A2位址也存3。一值多存並沒有好處，只是浪費。\n",
    "\n",
    "基於以上的說明，在deep copy時，就這些物件，不複製其內容而僅複製其references不會造成問題。請再想一下已經解釋過n遍的原理：這些共用references的物件，其中一個的值要更改，不是改掉共用記憶體的內容(那是immutable不能改的)，而是物件另找「頭家」去投靠。[**記憶體中的值一直都沒有改變，也無法改變**](https://stackoverflow.com/questions/17246693/what-exactly-is-the-difference-between-shallow-copy-deepcopy-and-normal-assignm \"請看這篇stackover問答的第4號回答的第1條，這條回答對deep copy的機制解釋得非常透徹。\")。\n",
    "\n",
    "總結上述，僅複製references並不會破壞新舊物件必須「獨立互不影響」的原則，而這樣做會比複製原物件的「值」，再另找新refercences來得快速又節省記憶體。Python既然占了這種記憶體配置機制上的「優勢」，當然要善加利用。結果就是：即使是deep copy，<span style=\"color: Crimson;\">對於那些immutable objects，Python</span>(最少是CPython)<span style=\"color: Crimson;\">其實只copy其references</span>(類似於shallow copy)。\n",
    "![](https://i.imgur.com/Ywn0Fu0.png =500x)<span style=\"color: Crimson;\">Python的deep copy。</span>\n",
    "\n",
    "上圖才是Python的deep copy最正確的圖示。圖中除B本身外，對A[0], A[1], A[2][0], A[2][1]這4個immutable objects都採取shallow copy，故references相同。只有A[2]這個屬於mutable的list才是真正的deep copy，原物件A[2]的reference是13，複製出的新物件B[2]則為A3。所以只有B本身和B[2]的references是紅字。\n",
    "\n",
    "以下我們來看看在deep copy下，變數(物件)「改值」後的實質變化：\n",
    "![](https://i.imgur.com/vaTWVc2.png =500x)<span style=\"color: Crimson;\"> deep copy下改值。</span>\n",
    "\n",
    "修改B[0]和B[2][1]的值，B[0]從`\"a\"`改為`\"c\"`，B[2][1]則從`True`改為`False`。當然Python內的實際運作並非變數改值，而是另找頭家。B[0]四方打聽，終於找到另一塊內容剛好為`\"c\"`位址為A1的記憶體，趕緊將自己的標籤從位址11撕下改貼到位址A1，所以B[0]的reference現在變成A1而其值為`\"c\"`。同樣道理，B[2][1]要棄`True`從`False`，`False`的位址是B2，於是將自己的reference換為B2。\n",
    "\n",
    "改值後對A[0]和A[2][1]有沒有影響呢？沒有噢。A[0]的reference仍然是11，其值是`\"a\"`，A[2][1]的reference是22，其值是`True`。這些都沒有更動。\n",
    "\n",
    "對照shallow copy的情形：\n",
    "![](https://i.imgur.com/1KnA7Mw.png =500x)<span style=\"color: Crimson;\">shallow copy下改值。</span>\n",
    "\n",
    "同樣的，修改B[0]和B[2][1]的值，B[0]從`\"a\"`改為`\"c\"`，B[2][1]則從`True`改為`False`。B[0]的運作情形和deep copy相同，所以修改後reference變成A1而其值為`\"c\"`，這對A[0]沒有造成影響，A[0]的值依然為`\"a\"`。\n",
    "\n",
    "可是，B[2][1]的修改就有問題了。由於shallow copy是連mutable的list都只是copy references，所以B[2]和A[2]的references都是13，指向同一個記憶體區塊，根本是同一個人，B[2]也就是A[2]。B[2]的子孫就是A[2]的子孫，B[2][1]也就是A[2][1]，所以不管B[2][1]標籤改貼到哪，都沒有用，A[2][1]照樣受到影響。\n"
   ]
  },
  {
   "cell_type": "code",
   "execution_count": 10,
   "metadata": {},
   "outputs": [
    {
     "name": "stdout",
     "output_type": "stream",
     "text": [
      "128902579182528 [{'first': 'Alex', 'last': 'Van'}, {'first': 'Mirror', 'last': 'Lam'}]\n",
      "128902579503232 [{'first': 'Alex', 'last': 'Van'}]\n"
     ]
    }
   ],
   "source": [
    "from copy import copy\n",
    "\n",
    "sheep = [{'name': 'Dolly', 'dob': 'Van'}]\n",
    "shallow_names = names.copy()  # Simple shallow copy for flat list\n",
    "\n",
    "names.append({'first': 'Mirror', 'last': 'Lam'})\n",
    "print(id(names), names)\n",
    "print(id(shallow_names), shallow_names)\n",
    "print()\n",
    "names.append({'first': 'Mirror', 'last': 'Lam'})\n",
    "print(id(names), names)\n",
    "print(id(shallow_names), shallow_names)"
   ]
  },
  {
   "cell_type": "code",
   "execution_count": 9,
   "metadata": {},
   "outputs": [
    {
     "name": "stdout",
     "output_type": "stream",
     "text": [
      "128902579265920 {'key': [1, 2, 3]}\n",
      "128902590520576 {'key': [1, 2, 3], 'more': 5}\n"
     ]
    }
   ],
   "source": [
    "from copy import copy\n",
    "original = {'key': [1, 2, 3]}\n",
    "shallow_clone = original.copy()\n",
    "# shallow_clone = copy(original)\n",
    "# shallow_clone = original\n",
    "\n",
    "shallow_clone['more'] = 5\n",
    "\n",
    "print(id(original), original)       # Output: {'key': [1, 2, 3, 4]}  (modified)\n",
    "print(id(shallow_clone), shallow_clone)  # Output: {'key': [1, 2, 3, 4]}  (same reference)\n"
   ]
  }
 ],
 "metadata": {
  "kernelspec": {
   "display_name": "Python 3",
   "language": "python",
   "name": "python3"
  },
  "language_info": {
   "codemirror_mode": {
    "name": "ipython",
    "version": 3
   },
   "file_extension": ".py",
   "mimetype": "text/x-python",
   "name": "python",
   "nbconvert_exporter": "python",
   "pygments_lexer": "ipython3",
   "version": "3.13.0"
  }
 },
 "nbformat": 4,
 "nbformat_minor": 2
}
