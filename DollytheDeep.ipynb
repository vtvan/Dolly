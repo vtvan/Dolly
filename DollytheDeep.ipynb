{
 "cells": [
  {
   "cell_type": "code",
   "execution_count": 9,
   "metadata": {},
   "outputs": [
    {
     "data": {
      "application/javascript": "// Define a global color variable\nconst mainColor = '#A9B2DD'; //LightSkyBlue';\n\n// Apply the color globally using CSS\ndocument.documentElement.style.setProperty('--main-color', mainColor);\n\n// Set output text color\ndocument.styleSheets[0].insertRule('body { color: var(--main-color) !important; }', 0);\n",
      "text/plain": [
       "<IPython.core.display.Javascript object>"
      ]
     },
     "metadata": {},
     "output_type": "display_data"
    }
   ],
   "source": [
    "%%javascript\n",
    "// Define a global color variable\n",
    "const mainColor = '#c586c0'; //LightSkyBlue';\n",
    "\n",
    "// Apply the color globally using CSS\n",
    "document.documentElement.style.setProperty('--main-color', mainColor);\n",
    "\n",
    "// Set output text color\n",
    "document.styleSheets[0].insertRule('body { color: var(--main-color) !important; }', 0);\n"
   ]
  },
  {
   "cell_type": "code",
   "execution_count": 4,
   "metadata": {},
   "outputs": [
    {
     "name": "stdout",
     "output_type": "stream",
     "text": [
      "Scribo, ergo sum.\n",
      "Sum, ergo scribo.\n"
     ]
    }
   ],
   "source": [
    "print('Scribo, ergo sum.')   # 我code故我在\n",
    "print('Sum, ergo scribo.')   # 我在故我code"
   ]
  },
  {
   "cell_type": "markdown",
   "metadata": {},
   "source": [
    "<div style=\"font-size: 200%; color: Pink; font-weight: 600;\">\n",
    "\n",
    "[《回憶》曲：郭子究/詞：陳崑、呂佩琳](https://www.youtube.com/watch?v=IOXqP5W4lvQ)\n",
    "</div>"
   ]
  },
  {
   "cell_type": "markdown",
   "metadata": {},
   "source": [
    "<br><br>\n",
    "<div style=\"font-family: 'Gen Jyuu Gothic Monospace Medium', 'Noto Sans TC', 'Inconsolata';  font-size: 700%; font-weight: 700; text-align: center; color: var(--main-color);\">\n",
    "Dolly the Deep\n",
    "</div>\n",
    "<br>\n",
    "<div style=\"font-size: 300%; color: #6CB4EE; text-align: center; font-weight: 600;\">\n",
    "程式語言的 Cloning「克隆」\n",
    "</div>\n",
    "<br>\n"
   ]
  },
  {
   "cell_type": "markdown",
   "metadata": {},
   "source": [
    "<div style=\"text-align:center\"><img src=\"./images/Dolly_face_closeup.jpg\" width=\"750\"/></div>\n",
    "<br><br><br><br>"
   ]
  },
  {
   "cell_type": "markdown",
   "metadata": {},
   "source": [
    "<div style=\"font-size: 150%; color: Pink; font-weight: 600;\">Dolly the Sheep</div>\n",
    "\n",
    "<div style=\"font-family: 'Inconsolata', 'Noto Sans TC'; font-size: 115%; color: DAE8E8; font-weight: 400; line-height: 130%\">\n",
    "\n",
    "* Dolly the Sheep「桃莉羊」(1996-07-05 ~ 2003-02-14)是運用細胞核移植技術，利用哺乳動物的成年體細胞培育出的雌性綿羊。她是史上<font color='Gold'>第一隻從成年細胞克隆(clone)出來的哺乳動物</font>。\n",
    "* In 1996, Dolly the Sheep captured the world's imagination as a groundbreaking example of `cloning`. In the programming world, `cloning` isn't as revolutionary, but it comes with its own complexities. Python developers often face the dilemma of choosing between `shallow` and `deep` copying, concepts that may seem deceptively simple but hold intricate implications. Let’s dive into these ideas using our metaphorical Dolly: Dolly the Deep.\n",
    "* 程式語言(以Python為例)的 cloning/copying 貌似簡單，實則錯綜複雜，值得開個主題詳細介紹。\n",
    "</div>\n",
    "\n"
   ]
  },
  {
   "cell_type": "markdown",
   "metadata": {},
   "source": [
    "<div style=\"font-size: 150%; color: Pink; font-weight: 600;\">Cloning in Programming Languages</div>\n",
    "<div style=\"font-family: 'Inconsolata', 'Noto Sans TC'; font-size: 115%; color: DAE8E8; font-weight: 400; line-height: 130%\">\n",
    "\n",
    "* 「克隆」(clone)或者「複製」(copy)這事兒(註1)，驟眼看來是個非常容易理解的機制。不就是製造一份內容和母資料完全相同的副本嗎？\n",
    "* 然而這個我們覺得很簡單的行為，在電腦上其實大有學問。尤其是在物件導向(Object Oriented)的領域，[object copying是個不算小的議題。](https://en.wikipedia.org/wiki/Object_copying \"可以參考這裡：Wiki對object copying的解釋。\")\n",
    "* 首先，大家得先了解兩個名詞：shallow copy(淺複製)以及 deep copy(深複製)。以下筆者嘗試顯淺解釋這兩個觀念在Python上的意義和運作。\n",
    "\n",
    "註1：本文 `clone` 和 `copy` 兩詞同義，不刻意區分其差別。"
   ]
  },
  {
   "cell_type": "markdown",
   "metadata": {},
   "source": [
    "<div style=\"font-size: 150%; color: Pink; font-weight: 600;\">Shallow Copy vs Deep Copy</div>\n",
    "<div style=\"font-family: 'Inconsolata', 'Noto Sans TC'; font-size: 115%; color: DAE8E8; font-weight: 400; line-height: 130%\">\n",
    "\n",
    "* 先直接引用Python官網上的解釋：\n",
    "    > The difference between shallow and deep copying is only relevant for compound objects (objects that contain other objects, like lists or class instances):\n",
    "    >\n",
    "    > A `shallow copy` constructs a new compound object and then (to the extent possible) inserts _references_ into it to the objects found in the original.\n",
    "    >\n",
    "    > A `deep copy` constructs a new compound object and then, recursively, inserts _copies_ into it of the objects found in the original.\n",
    "* 上面這段話的大意和延伸說明是：shallow copy和deep copy間的差異，只在複製<span style=\"color: Crimson;\">複合物件</span>(compound objects)時才會顯出。如果有一物件A，A之中包含了其他物件a1, a2,...等，那麼A就是複合物件。例如lists或類別的實例就屬於複合物件。Python的str也算是複合物件，因為str由characters物件組成。和複合物件相對的是int, float, bool等純含值而不含其他物件的簡單物件。\n"
   ]
  },
  {
   "cell_type": "markdown",
   "metadata": {},
   "source": [
    "<span style=\"font-size: 150%; color: Pink; font-weight: 600;\">Shallow Copy</span>\n",
    "<div style=\"font-family: 'Inconsolata', 'Noto Sans TC'; font-size: 115%; color: DAE8E8; font-weight: 400; line-height: 130%\">\n",
    "\n",
    "* shallow copy會<span style=\"color: Crimson;\">製造出另一個新的物件</span>。假設原物件為A，新物件為B，shallow copy後A, B兩者的references不會相同(如不求精準，大致可說reference是物件在記憶體中的位址)。用`id()`檢查，`id(A)`並不等於`id(B)`；`A is B`時傳回`False`。\n",
    "* 除此之外，對A的子物件，就不再產生新物件，僅複製其references，放入B的相對位置。淺複製的結果是<span style=\"color: Crimson;\">新舊物件(本例是A和B)本尊的references不同，但兩者內所有子物件的references皆兩兩相等。</span>\n",
    "* 其中一個物件的子物件值如有修改，另一物件相對應的子物件亦「可能」隨之修改。至於為甚麼是「可能」而非「一定」隨之修改，且看後面的更進一步說明。\n",
    "<div style=\"text-align:center\"><img src=\"./images/shallow_copy.jpg\" width=\"500\";><br><font color=#AFEEEE>shallow copy 只新生出最外層的「殼」(即本圖的 B)</font></div>\n",
    "\n",
    "* 上圖的A假設是個list，位址簡化作01，有3個元素，位址分別是11, 12, 13。A[0]是字串，其值為`\"a\";`A[1]是整數，值為3；而A[2]也是個list，內有2個元素，位址在21和22，其值分別為字串`\"ab\"`及`True`。\n",
    "* copy後B的位址為F1，特別用<span style=\"color: Red;\">紅色</span>標示，表示和A不同。這也是上圖唯一紅色的位址，除了B本尊外，它子子孫孫的位址都和A的子孫兩兩相等。\n"
   ]
  },
  {
   "cell_type": "code",
   "execution_count": 5,
   "metadata": {},
   "outputs": [
    {
     "data": {
      "text/plain": [
       "(['a', 3, ['ab', True]], ['a', 3, ['ab', True]])"
      ]
     },
     "execution_count": 5,
     "metadata": {},
     "output_type": "execute_result"
    },
    {
     "data": {
      "text/plain": [
       "(['a', 3, ['xy', True]], ['a', 3, ['xy', True]])"
      ]
     },
     "execution_count": 5,
     "metadata": {},
     "output_type": "execute_result"
    }
   ],
   "source": [
    "import copy\n",
    "\n",
    "A = ['a', 3, ['ab', True]]\n",
    "# B = A.copy()    # shallow copy\n",
    "B = copy.copy(A)  # shallow copy\n",
    "A, B\n",
    "B[2][0] = 'xy'\n",
    "A, B"
   ]
  },
  {
   "cell_type": "markdown",
   "metadata": {},
   "source": [
    "<span style=\"font-size: 150%; color: Pink; font-weight: 600;\">Deep Copy--理論</span>\n",
    "<div style=\"font-family: 'Inconsolata', 'Noto Sans TC'; font-size: 115%; color: DAE8E8; font-weight: 400; line-height: 130%\">\n",
    "\n",
    "* deep copy則是在製造出另一個新(複合)物件後，再對原物件內的子物件逐一複製，<span style=\"color: Crimson;\">賦予新的references</span>。子物件本身如果也有子子物件，亦一層一層地輪流複製。這就是上面官網說的`'recursively'`的意思。\n",
    "* 由於都已賦予新的references，複製完成後，新物件的內容固然和原物件完全相同，但已獨立於原物件。這時<span style=\"color: Crimson;\">修改任何一物件或其子物件的內容，都不會影響到另一物件。</span>\n",
    "* 根據以上的說明，deep copy圖示理應如下：\n",
    "<div style=\"text-align:center\"><img src=\"./images/deep_copy理應如此？.jpg\" width=\"500\"/><br><font color=#AFEEEE>最徹底的 deep copy 示意圖，但 Python 內部並未如此實作</font></div>  \n",
    "      \n",
    "* 圖中B本身(F1)和它所有子子孫孫物件的references(A1, A2, A3, B1, B2)都用<span style=\"color: Red;\">紅色</span>標示，表示這些references和A相對應的子物件都不一樣。\n",
    "* 上圖<span style=\"color: Crimson;\">非常接近，但未完全符合事實。</span>原因在一個我們還沒有討論到的層面：Python物件<span style='CuiLv'>「是否可變」(mutability)問題</span>。這個因素影響了deep copy的行為。\n"
   ]
  },
  {
   "cell_type": "markdown",
   "metadata": {},
   "source": [
    "<span style=\"font-size: 150%; color: Pink; font-weight: 600;\">Mutability Mechanism in Python</span>\n",
    "<div style=\"font-family: 'Inconsolata', 'Noto Sans TC'; font-size: 115%; color: DAE8E8; font-weight: 400; line-height: 130%\">\n",
    "\n",
    "* 下面暫時岔開，先搞通Python的<span style=\"color: Gold;\">mutability</span>(物件內容是否可變)這玩意兒。\n",
    "* 請看以下的C#程式。程式沒做甚麼，就宣告一個變數同時賦值(line 7)，再更改其值(line 11)。改值前後都印出其值及位址，如此而已。要觀察的是變數改值前後，<span style=\"font-size: 115%; color: Gold; font-weight: 600;\">記憶體位址有無更動</span>。\n",
    "\n",
    "    ```csharp=\n",
    "    using System;\n",
    "\n",
    "    class Program\n",
    "    {\n",
    "        unsafe static void Main(string[] args)\n",
    "        {\n",
    "            int myInt = 3;\n",
    "            int* address1 = &myInt;\n",
    "            Console.WriteLine($\"value1 of `myInt`: {myInt}\\t address1 of `myInt`: {(long)address1:X}\");\n",
    "\n",
    "            myInt = 5;\n",
    "            int* address2 = &myInt;\n",
    "            Console.WriteLine($\"value2 of `myInt`: {myInt}\\t address2 of `myInt`: {(long)address2:X}\");\n",
    "\n",
    "            Console.WriteLine($\"address1 == address2: {address1 == address2}\");\n",
    "        }\n",
    "    }\n",
    "    ```\n",
    "* 程式輸出如下，如大家預料，變數`myInt`改值前後，位址保持不變。大家可能會說：這是common sense，本來就該如此。難道府上翻新了裝潢，更換了家具，地址就會改變嗎？\n",
    "\n",
    "<div style=\"text-align:center\"><img src=\"./images/showReferences.exe_cs.png\" width=\"1000\"/><br><font color=#AFEEEE>C#變數改值前後位址保持不變</font></div>        \n",
    "   "
   ]
  },
  {
   "cell_type": "markdown",
   "metadata": {},
   "source": [
    "<span style=\"font-size: 150%; color: Pink; font-weight: 600;\">Furniture and Address</span>\n",
    "<div style=\"font-family: 'Inconsolata', 'Noto Sans TC'; font-size: 115%; color: #DAE8E8; font-weight: 400; line-height: 130%\">\n",
    "    \n",
    "* 世事難料。有時換了家具，地址也當真跟著更換。\n",
    "* Python就是如此。\n",
    "* Python的常用內建資料型別(built-in types)之中，有些是mutable，即內容值可以更改；有些則屬於immutable，意思是變數一旦建立，其值就不允許更改。下表列出一些常用資料型別的mutability特性：\n"
   ]
  },
  {
   "cell_type": "markdown",
   "metadata": {},
   "source": [
    "<span style=\"font-size: 150%; color: Pink; font-weight: 600;\">Python's Mutability Table</span>\n",
    "<div style=\"font-family: 'Inconsolata', 'Noto Sans TC'; font-size: 115%; color: DAE8E8; font-weight: 400; line-height: 130%\">\n",
    "\n",
    "* 有些物件(變數)能改其值，有些則不能：\n",
    "\n",
    "    |內容可否改變|資料型別|\n",
    "    |:---|:---|\n",
    "    |mutable(可改變)  |list, dict, set, bytearray|\n",
    "    |immutable(不可變)|int, float, complex, str, bool, bytes, </br>tuple, frozenset(immutable version of set)|\n",
    "\n",
    "<span></span>\n",
    "\n",
    "* 別懷疑：int, str等資料型別真的屬於immutable「內容不可修改」這類。各位可能會說：明明我可以像下面這樣寫程式修改int和str的內容，為甚麼說int和str是不可以改變的呢？\n",
    "* 請思考：到現在為止，涉及「可不可變」的一直都是「變數」`variable`，至於筆者經常強調的「定數」`literal`，其「可變性」到底如何？哪些型別的 `literal` 可變？哪些不可變？"
   ]
  },
  {
   "cell_type": "code",
   "execution_count": 10,
   "metadata": {},
   "outputs": [
    {
     "name": "stdout",
     "output_type": "stream",
     "text": [
      "['1', '2', '3'] 130946448503488\n",
      "['x', '2', '3'] 130946448508224\n"
     ]
    }
   ],
   "source": [
    "s = ['1', '2', '3']\n",
    "print(s, id(s))\n",
    "s = ['x', '2', '3']    # not in-line operartion (可以)\n",
    "# s[0] = 'x'   # in-line operation (不可以)\n",
    "print(s, id(s))"
   ]
  },
  {
   "cell_type": "code",
   "execution_count": null,
   "metadata": {},
   "outputs": [],
   "source": [
    "    my_str = 'Alex'\n",
    "    print(my_str, end='\\t')  # my_str內容是'Alex'。\n",
    "    my_str = 'Becca'\n",
    "    print(my_str)            # 改為'Becca'。\n",
    "\n",
    "    print()\n",
    "    my_int = 3\n",
    "    print(my_int, end='\\t')  # my_int內容是3。\n",
    "    my_int = 5\n",
    "    print(my_int)            # 改為5。"
   ]
  },
  {
   "cell_type": "markdown",
   "metadata": {},
   "source": [
    "<span style=\"font-size: 150%; color: Pink; font-weight: 600;\">my_str和my_int的值明明有更改呀</span>\n",
    "<div style=\"font-family: 'Inconsolata', 'Noto Sans TC'; font-size: 115%; color: DAE8E8; font-weight: 400; line-height: 130%\">\n",
    "\n",
    "* 所以...有沒搞錯？為甚麼說str和int是immutable？\n"
   ]
  },
  {
   "cell_type": "markdown",
   "metadata": {},
   "source": [
    "<span style=\"font-size: 150%; color: Pink; font-weight: 600;\">str和int的確不可以更改</span>\n",
    "<div style=\"font-family: 'Inconsolata', 'Noto Sans TC'; font-size: 115%; color: DAE8E8; font-weight: 400; line-height: 130%\">\n",
    "\n",
    "* 筆者可沒有搞錯，str和int的確是不可以更改的。請大家耐心看下去，再詳細觀察，就了解這些值的「更改」，和上面C#程式的「變數改值」運作(也就是一般人的認知)並不相同。請看下面的程式碼：\n"
   ]
  },
  {
   "cell_type": "code",
   "execution_count": null,
   "metadata": {},
   "outputs": [],
   "source": [
    "def show_these(this_str: str, this_int: int, prompt: str = '') -> None:\n",
    "    print(prompt)\n",
    "    id_str = id(this_str)\n",
    "    id_int = id(this_int)\n",
    "    print(f'  {this_str = :<10}{id_str = :<20}')     # 注意id。\n",
    "    print(f'  {this_int = :<10}{id_int = :<20}')     # 注意id。\n",
    "    print()\n",
    "    return id_str, id_int\n",
    "\n",
    "\n",
    "my_str = 'Alex'\n",
    "my_int = 3\n",
    "id_my_str_old, id_my_int_old = show_these(my_str, my_int, 'Before change:')\n",
    "\n",
    "my_str = 'Mirror'\n",
    "my_int = 5\n",
    "id_my_str_new, id_my_int_new = show_these(my_str, my_int, 'After change :')\n",
    "\n",
    "print(f'{(id_my_str_old == id_my_str_new) = }')\n",
    "print(f'{(id_my_int_old == id_my_int_new) = }')"
   ]
  },
  {
   "cell_type": "markdown",
   "metadata": {},
   "source": [
    "<span style=\"font-size: 150%; color: Pink; font-weight: 600;\">莊周夢蝶</span>\n",
    "<div style=\"font-family: 'Inconsolata', 'Noto Sans TC'; font-size: 115%; color: DAE8E8; font-weight: 400; line-height: 130%\">\n",
    "\n",
    "* 在[CPython](https://zh.wikipedia.org/wiki/CPython \"CPython是用C語言撰寫的Python interpreter。它是Python語言的官方實作，也是使用最廣泛的直譯器。\")中，`id(x)`傳回物件x在記憶體中的位址，不求用詞精準的話，約略等於x的reference。`id()`不同，references也就相異，代表不同的物件(註2)；`id()`相同，reference亦無二致，當然是同一事物。以上程式顯示，my_str 和 my_int 在賦予新值之後，自己竟然改變了位址。和一般認知的<span style=\"color: LightCoral;\">「變數位址固定，改變的是其內容值」</span>的觀念(如上面展示的C#程式)大相徑庭。\n",
    "* 究竟誰在變？[物件化蝶，還是蝶化物件？](https://zh.wikipedia.org/wiki/%E5%BA%84%E5%91%A8%E6%A2%A6%E8%9D%B6)\n",
    "* 各位如無莊子的慧根，單憑上面的程式和輸出，一時片刻未能領悟變蝶或蝶變，不，是變數改值或改位址這道千古難題，請看下面的詳細說明。倘若一看程式就幻化成彩蝶，恭喜，以下這幾個記憶體圖解您可以跳過不理。\n",
    "\n",
    "\n",
    "註2：reference 和 address 兩者概念有別。有機會另「闢室詳談」。"
   ]
  },
  {
   "cell_type": "markdown",
   "metadata": {},
   "source": [
    "<span style=\"font-size: 150%; color: Pink; font-weight: 600;\">Python對物件(變數)改值的處理機制-1</span>\n",
    "<div style=\"font-family: 'Inconsolata', 'Noto Sans TC'; font-size: 115%; color: DAE8E8; font-weight: 400; line-height: 130%\">\n",
    "\n",
    "* 在一些其他語言(C, C++...)，修改一個變數的值，尤其是int, float等數值型別，就是將該變數所在的那塊記憶體的內容以新值取代。變數本身的位址是不會變動的。以上的C#的程式已有證實。\n",
    "* 然而在Python卻是another story。執行`myInt = 3`指令時，<font color=#FF00FF>與其說給`myInt`變數賦予3這個值，</font><span style=\"color: Crimson;\">不如說「先找出一塊內容為3的記憶體，然後將變數名稱`myInt`當作『標籤』，貼到該塊記憶體上。</span>下圖的`id: 495018272`就是Python內部幫`'myInt'`找到的記憶體位址[^id和位址]。找到位址後，將myInt貼了上去。\n",
    "\n",
    "<div style=\"text-align:center\"><img src=\"./images/memory management-1.jpg\" width=\"450\"/><br><font color=#AFEEEE>變數要找記憶體投靠</font></div>\n"
   ]
  },
  {
   "cell_type": "markdown",
   "metadata": {},
   "source": [
    "<span style=\"font-size: 150%; color: Pink; font-weight: 600;\">Python對物件(變數)改值的處理機制-2</span>\n",
    "<div style=\"font-family: 'Inconsolata', 'Noto Sans TC'; font-size: 115%; color: DAE8E8; font-weight: 400; line-height: 130%\">\n",
    "\n",
    "* 其後，我們如要更改`myInt`的值，例如`myInt = 5`，Python的做法<span style=\"color: Crimson;\">並『不是』如下圖那樣</span>，將原本存放3的那塊記憶體(`id: 495018272`)的內容改為5：\n",
    "\n",
    "<div style=\"text-align:center\"><img src=\"./images/memory management-2.jpg\" width=\"450\"/><br><font color=#AFEEEE>No, 這不是Python的做法喔。</font></div>\n"
   ]
  },
  {
   "cell_type": "markdown",
   "metadata": {},
   "source": [
    "<span style=\"font-size: 150%; color: Pink; font-weight: 600;\">Python對物件(變數)改值的處理機制-3</span>\n",
    "<div style=\"font-family: 'Inconsolata', 'Noto Sans TC'; font-size: 115%; color: DAE8E8; font-weight: 400; line-height: 130%\">\n",
    "\n",
    "* 而是先將`myInt`這個標籤從內容為3的記憶體(`id: 495018272`)撕下，另找一塊內容為5的記憶體(本例為`id: 495018336`)，找不到就分配一塊，然後將撕下的`myInt`標籤改貼到這塊新找到的記憶體上。新的記憶體有可能已經有其他變數標籤(如下圖的`othInt`)，那沒有關係，Python允許在同一塊記憶體貼上多個變數標籤。\n",
    "\n",
    "<div style=\"text-align:center\"><img src=\"./images/memory management-3.jpg\" width=\"500\"/><br><font color=#AFEEEE>這才是Python的內部運作</font></div>\n",
    "\n",
    "* `myInt`的「值」，亦即記憶體的內容，一旦賦予就不能改變，但`myInt`「本身」卻可以變。</span>這就是Python的immutable資料型別的真正含義和運作方式。\n",
    "* Quiz:\n",
    "對內容「可否更改」，上面舉的範例是int，其實看str可能更為清楚。各位請自行推敲下面這段程式碼會有甚麼結果，以及為甚麼：\n"
   ]
  },
  {
   "cell_type": "code",
   "execution_count": null,
   "metadata": {},
   "outputs": [],
   "source": [
    "my_str = 'abcde'\n",
    "print(id(my_str))\n",
    "my_str = '13579'   # create a new object (different reference)\n",
    "# my_str[0] = 'x'   # 'x3579'? string是immutable物件，不可以執行 in-line operations。\n",
    "print(id(my_str))\n"
   ]
  },
  {
   "cell_type": "markdown",
   "metadata": {},
   "source": [
    "<span style=\"font-size: 150%; color: Pink; font-weight: 600;\">「改值」議題小結</span>\n",
    "<div style=\"font-family: 'Inconsolata', 'Noto Sans TC'; font-size: 115%; color: DAE8E8; font-weight: 400; line-height: 130%\">\n",
    "\n",
    "* 對於str, int等immutable資料型別的變數，「表面上」是可以改值的。不過在Python內部變數的值根本沒有改，而是將自己作為標籤附麗到其他記憶體。改的是變數的reference，而不是它的「值」。好有一比，外表是休掉正室，另娶小三，實則為妻所休，只好入贅小三她家。😤\n"
   ]
  },
  {
   "cell_type": "markdown",
   "metadata": {},
   "source": [
    "<span style=\"font-size: 150%; color: Pink; font-weight: 600;\">Shallow Copy vs Deep Copy：再回頭已百年身</span>\n",
    "<div style=\"font-family: 'Inconsolata', 'Noto Sans TC'; font-size: 115%; color: DAE8E8; font-weight: 400; line-height: 130%\">\n",
    "\n",
    "* 岔開很久了，現在我們趕快回到 Python 的 deep copy 這條主線：像 int, str 等 immutable 物件(變數)，既然只可以更改 references 而不准許更改內容值(values)，那麼就沒有必要在不同的記憶體位址儲存相同內容了。例如要存 3 這個值，只要找一塊記憶體儲存就行。不必 A1 位址存了3，A2 位址也存 3。Van Rossum 當初設計 Python 時的理念大概是：一值多存並沒有好處，只是浪費。\n",
    "\n",
    "<div style=\"text-align:center\"><img src=\"./images/different variable withe same value.png\" width=\"1000\"/><br><font color=#AFEEEE>C#中不同變數即使值相同，也有不同位址。</font></div>\n",
    "\n",
    "* 基於以上的說明，在 deep copy 時，就這些物件，不複製其內容而僅複製其 references 不會造成問題。請再想一下已經解釋過 N 遍的原理：這些共用references的物件，其中一個的值要更改，不是改掉共用記憶體的內容(那是immutable不能改的)，而是物件另找「頭家」去投靠。[**記憶體中的值一直都沒有改變，也無法改變**](https://stackoverflow.com/questions/17246693/what-exactly-is-the-difference-between-shallow-copy-deepcopy-and-normal-assignm \"請看這篇stackover問答的第4號回答的第1條，這條回答對deep copy的機制解釋得非常透徹。\")。\n",
    "* 總結上述，僅複製references並不會破壞新舊物件必須「獨立互不影響」的原則，而這樣做會比複製原物件的「值」，再另找新refercences來得快速又節省記憶體。Python既然占了這種記憶體配置機制上的「優勢」，當然要善加利用。結果就是：即使是deep copy，<span style=\"color: Crimson;\">對於那些immutable objects，Python</span>(最少是CPython)<span style=\"color: Crimson;\">其實只copy其references</span>(類似於shallow copy)。"
   ]
  },
  {
   "cell_type": "markdown",
   "metadata": {},
   "source": [
    "<span style=\"font-size: 150%; color: Pink; font-weight: 600;\">Python 的 Deep Copy 其實是這樣：</span>\n",
    "<div style=\"font-family: 'Inconsolata', 'Noto Sans TC'; font-size: 115%; color: DAE8E8; font-weight: 400; line-height: 130%\">\n",
    "<div style=\"text-align:center\"><img src=\"./images/deep_copy理應如此？.jpg\" width=\"400\"/>　<img src=\"./images/Python--deep copy.jpg\" width=\"480\"/></div>\n",
    "\n",
    "* 上圖右才是 Python(CPython) 的 deep copy 實際做法。圖右中除 B 本身外，對 A[0], A[1], A[2][0], A[2][1] 這 4 個 immutable objects 都採取 shallow copy，故 references 相同。只有 A[2] 這個屬於 mutable 的 list 才是真正的 deep copy，原物件 A[2] 的 reference 是 13，複製出的新物件 B[2] 則為 A3。所以只有 B 本身和 B[2] 的 references 是紅字。"
   ]
  },
  {
   "cell_type": "code",
   "execution_count": 16,
   "metadata": {},
   "outputs": [
    {
     "name": "stdout",
     "output_type": "stream",
     "text": [
      "id(A[2]), id(B[2]) = (130946448541248, 130946448577408)  False  deep\n",
      "id(A[2][0]), id(B[2][0]) = (130946523352160, 130946523352160)  True  shallow\n",
      "id(A[2][1]), id(B[2][1]) = (95497278837696, 95497278837696)  True  shallow\n"
     ]
    }
   ],
   "source": [
    "import copy\n",
    "\n",
    "A = ['a', 3, ['ab', True]]\n",
    "B = copy.deepcopy(A)\n",
    "# print(f'{A = }')\n",
    "# print(f'{B = }')\n",
    "# print(f'{id(A), id(B) = }  {(is_shallow := id(A) == id(B))}  {'shallow' if is_shallow else 'deep'}')\n",
    "# print(f'{id(A[0]), id(B[0]) = }  {(is_shallow := id(A[0]) == id(B[0]))}  {'shallow' if is_shallow else 'deep'}')\n",
    "# print(f'{id(A[1]), id(B[1]) = }  {(is_shallow := id(A[1]) == id(B[1]))}  {'shallow' if is_shallow else 'deep'}')\n",
    "print(f'{id(A[2]), id(B[2]) = }  {(is_shallow := id(A[2]) == id(B[2]))}  {'shallow' if is_shallow else 'deep'}')\n",
    "print(f'{id(A[2][0]), id(B[2][0]) = }  {(is_shallow := id(A[2][0]) == id(B[2][0]))}  {'shallow' if is_shallow else 'deep'}')\n",
    "print(f'{id(A[2][1]), id(B[2][1]) = }  {(is_shallow := id(A[2][1]) == id(B[2][1]))}  {'shallow' if is_shallow else 'deep'}')"
   ]
  },
  {
   "cell_type": "markdown",
   "metadata": {},
   "source": [
    "<span style=\"font-size: 150%; color: Pink; font-weight: 600;\">Deep Copy 下的改值</span>\n",
    "<div style=\"font-family: 'Inconsolata', 'Noto Sans TC'; font-size: 115%; color: DAE8E8; font-weight: 400; line-height: 130%\">\n",
    "\n",
    "* 以下我們來看看在 deep copy 下，變數(物件)「改值」後的實質變化：\n",
    "\n",
    "<div style=\"text-align:center\"><img src=\"./images/Python--modify values in deep copy.jpg\" width=\"500\"/><br><font color=#AFEEEE>deep copy下改值</font></div>\n",
    "\n",
    "* 修改 B[0] 和 B[2][1] 的值，B[0] 從 `\"a\"` 改為 `\"c\"`，B[2][1] 則從 `True` 改為 `False`。當然 Python 內的實際運作並非變數改值，而是另找頭家。B[0] 四方打聽，終於找到另一塊內容剛好為 `\"c\"` 位址為 A1 的記憶體，趕緊將自己的標籤從位址 11 撕下改貼到位址 A1，所以 B[0] 的 reference 現在變成 A1 而其值為 `\"c\"`。同樣道理，B[2][1] 要棄 `True` 從 `False`，`False` 的位址是 B2，於是將自己的 reference 換為 B2。\n",
    "* 改值後對 A[0] 和 A[2][1] 有沒有影響呢？沒有噢。A[0] 的 reference 仍然是 11，其值是 `\"a\"`，A[2][1] 的 reference 是 22，其值是 `True`。這些都沒有更動。"
   ]
  },
  {
   "cell_type": "code",
   "execution_count": 17,
   "metadata": {},
   "outputs": [
    {
     "name": "stdout",
     "output_type": "stream",
     "text": [
      "Before deepcopy: A = ['a', 3, ['ab', True]]\n",
      "Before deepcopy: B = ['a', 3, ['ab', True]]\n",
      "After deepcopy : A = ['a', 3, ['ab', True]]\n",
      "After deepcopy : B = ['c', 3, ['ab', False]]\n",
      "id(A), id(B) = (130946448699392, 130946448698560)  False  deep\n",
      "id(A[0]), id(B[0]) = (95497279159768, 95497279159864)  False  deep\n",
      "id(A[1]), id(B[1]) = (95497279095312, 95497279095312)  True  shallow\n",
      "id(A[2]), id(B[2]) = (130946448697024, 130946448541248)  False  deep\n",
      "id(A[2][0]), id(B[2][0]) = (130946523352160, 130946523352160)  True  shallow\n",
      "id(A[2][1]), id(B[2][1]) = (95497278837696, 95497278837728)  False  deep\n"
     ]
    }
   ],
   "source": [
    "import copy\n",
    "\n",
    "A = ['a', 3, ['ab', True]]\n",
    "B = copy.deepcopy(A)\n",
    "print(f'Before deepcopy: {A = }')\n",
    "print(f'Before deepcopy: {B = }')\n",
    "B[0] = 'c'\n",
    "B[2][1] = False\n",
    "print(f'After deepcopy : {A = }')\n",
    "print(f'After deepcopy : {B = }')\n",
    "\n",
    "print(f'{id(A), id(B) = }  {(is_shallow := id(A) == id(B))}  {'shallow' if is_shallow else 'deep'}')\n",
    "print(f'{id(A[0]), id(B[0]) = }  {(is_shallow := id(A[0]) == id(B[0]))}  {'shallow' if is_shallow else 'deep'}')\n",
    "print(f'{id(A[1]), id(B[1]) = }  {(is_shallow := id(A[1]) == id(B[1]))}  {'shallow' if is_shallow else 'deep'}')\n",
    "print(f'{id(A[2]), id(B[2]) = }  {(is_shallow := id(A[2]) == id(B[2]))}  {'shallow' if is_shallow else 'deep'}')\n",
    "print(f'{id(A[2][0]), id(B[2][0]) = }  {(is_shallow := id(A[2][0]) == id(B[2][0]))}  {'shallow' if is_shallow else 'deep'}')\n",
    "print(f'{id(A[2][1]), id(B[2][1]) = }  {(is_shallow := id(A[2][1]) == id(B[2][1]))}  {'shallow' if is_shallow else 'deep'}')"
   ]
  },
  {
   "cell_type": "markdown",
   "metadata": {},
   "source": [
    "<span style=\"font-size: 150%; color: Pink; font-weight: 600;\">Shallow Copy 下的改值</span>\n",
    "<div style=\"font-family: 'Inconsolata', 'Noto Sans TC'; font-size: 115%; color: DAE8E8; font-weight: 400; line-height: 130%\">\n",
    "\n",
    "* 對照 shallow copy 的情形：\n",
    "\n",
    "<div style=\"text-align:center\"><img src=\"./images/Python--modify values in shallow copy.jpg\" width=\"500\"/><br><font color=#AFEEEE>shallow copy 下改值</font></div>\n",
    "\n",
    "* 同樣的，修改 B[0] 和 B[2][1] 的值，B[0] 從 `\"a\"` 改為 `\"c\"`，B[2][1] 則從 `True` 改為 `False`。B[0] 的運作情形和 deep copy 相同，所以修改後reference 變成 A1 而其值為 `\"c\"`，這對 A[0] 沒有造成影響，A[0] 的值依然為 `\"a\"`。\n",
    "* 可是，B[2][1] 的修改就有問題了。由於 shallow copy 是連 mutable 的 list都只是 copy references，所以 B[2] 和 A[2] 的 references 都是 13，指向同一個記憶體區塊，根本是同一個人，B[2] 也就是 A[2]。B[2] 的子孫就是 A[2]的子孫，B[2][1] 也就是 A[2][1]，所以不管 B[2][1] 標籤改貼到哪，都沒有用，A[2][1] 照樣受到影響。"
   ]
  },
  {
   "cell_type": "code",
   "execution_count": null,
   "metadata": {},
   "outputs": [],
   "source": []
  },
  {
   "cell_type": "markdown",
   "metadata": {},
   "source": [
    "<div style=\"text-align:center\"><img src=\"./images/TheEnd.png\" width=\"500\"/></div>"
   ]
  },
  {
   "cell_type": "code",
   "execution_count": null,
   "metadata": {},
   "outputs": [],
   "source": [
    "from copy import copy\n",
    "\n",
    "sheep = [{'name': 'Dolly', 'dob': 'Van'}]\n",
    "shallow_names = names.copy()  # Simple shallow copy for flat list\n",
    "\n",
    "names.append({'first': 'Mirror', 'last': 'Lam'})\n",
    "print(id(names), names)\n",
    "print(id(shallow_names), shallow_names)\n",
    "print()\n",
    "names.append({'first': 'Mirror', 'last': 'Lam'})\n",
    "print(id(names), names)\n",
    "print(id(shallow_names), shallow_names)"
   ]
  },
  {
   "cell_type": "code",
   "execution_count": null,
   "metadata": {},
   "outputs": [],
   "source": [
    "from copy import copy\n",
    "original = {'key': [1, 2, 3]}\n",
    "shallow_clone = original.copy()\n",
    "# shallow_clone = copy(original)\n",
    "# shallow_clone = original\n",
    "\n",
    "shallow_clone['more'] = 5\n",
    "\n",
    "print(id(original), original)       # Output: {'key': [1, 2, 3, 4]}  (modified)\n",
    "print(id(shallow_clone), shallow_clone)  # Output: {'key': [1, 2, 3, 4]}  (same reference)\n"
   ]
  },
  {
   "cell_type": "code",
   "execution_count": null,
   "metadata": {},
   "outputs": [],
   "source": [
    "def foo(t: tuple, l: list) -> None:\n",
    "    # t[0] = 0   # not allowed\n",
    "    t = (0,)     # my_tuple not influenced\n",
    "    l[0] = 0     # my_list influenced\n",
    "    return None\n",
    "\n",
    "my_list = [5, 4]\n",
    "my_tuple = (3, 7)\n",
    "foo(l=my_list, t=my_tuple)\n",
    "print(my_list, my_tuple)"
   ]
  },
  {
   "cell_type": "code",
   "execution_count": null,
   "metadata": {},
   "outputs": [],
   "source": [
    "class Boo:\n",
    "    def foo1_1():        # static-like\n",
    "        print('foo1_1()')\n",
    "\n",
    "    def foo1_2(cls):\n",
    "        print('foo1_2(cls)')\n",
    "\n",
    "    def foo1_3(self):\n",
    "        print('foo1_3(self)')\n",
    "\n",
    "    def foo1_4(this):\n",
    "        print('foo1_4(this)')\n",
    "\n",
    "    @classmethod\n",
    "    def foo2_1():\n",
    "        print('@classmethod')\n",
    "        print('foo2_1()')\n",
    "\n",
    "    @classmethod\n",
    "    def foo2_2(cls):\n",
    "        print('@classmethod')\n",
    "        print('foo2_2(cls)')\n",
    "\n",
    "    @classmethod\n",
    "    def foo2_3(self):\n",
    "        print('@classmethod')\n",
    "        print('foo2_3(self)')\n",
    "\n",
    "    @classmethod\n",
    "    def foo2_4(this):\n",
    "        print('@classmethod')\n",
    "        print('foo2_4(this)')\n",
    "\n",
    "    @staticmethod\n",
    "    def foo3_1():\n",
    "        print('@staticmethod')\n",
    "        print('foo3_1()')\n",
    "\n",
    "    @staticmethod\n",
    "    def foo3_2(cls):\n",
    "        print('@staticmethod')\n",
    "        print('foo3_2(cls)')\n",
    "\n",
    "    @staticmethod\n",
    "    def foo3_3(self):\n",
    "        print('@staticmethod')\n",
    "        print('foo3_3(self)')\n",
    "\n",
    "    @staticmethod\n",
    "    def foo3_4(this):\n",
    "        print('@staticmethod')\n",
    "        print('foo3_4(this)')\n",
    "\n",
    "\n",
    "methods = [f'foo{i}_{j}' for i in range(1, 4) for j in range(1, 5)]\n",
    "# Iterate over the methods\n",
    "for method in methods:\n",
    "    print(f'Boo.{method}(): ', end='')\n",
    "    try:\n",
    "        getattr(Boo, method)()  # Call as a class method\n",
    "        # pass\n",
    "    except Exception as e:\n",
    "        print(e)\n",
    "\n",
    "    print(f'Boo().{method}(): ', end='')\n",
    "    try:\n",
    "        getattr(Boo(), method)()  # Call as an instance method\n",
    "        # pass\n",
    "    except Exception as e:\n",
    "        print(e)\n",
    "    print()\n"
   ]
  },
  {
   "cell_type": "code",
   "execution_count": null,
   "metadata": {},
   "outputs": [],
   "source": [
    "Boo.foo1_1()      #\n",
    "Boo().foo1_1()    # Exception\n",
    "\n",
    "Boo.foo1_2()      # Exception\n",
    "Boo().foo1_2()    #\n",
    "\n",
    "Boo.foo1_3()      # Exception\n",
    "Boo().foo1_3()    #\n",
    "\n",
    "Boo.foo1_4()      # Exception\n",
    "Boo().foo1_4()    #\n",
    "\n",
    "Boo.foo2_1()      # takes 0, got 1\n",
    "Boo().foo2_1()    # takes 0, got 1\n",
    "\n",
    "Boo.foo2_2()      #\n",
    "Boo().foo2_2()    #\n",
    "\n",
    "Boo.foo2_3()      #\n",
    "Boo().foo2_3()    #\n",
    "\n",
    "Boo.foo2_4()      #\n",
    "Boo().foo2_4()    #\n",
    "\n",
    "Boo.foo3_1()      #\n",
    "Boo().foo3_1()    #\n",
    "\n",
    "Boo.foo3_2()      # Exception (missing 1)\n",
    "Boo().foo3_2()    # Exception (missing 1)\n",
    "\n",
    "Boo.foo3_3()      # Exception (missing 1)\n",
    "Boo().foo3_3()    # Exception (missing 1)\n",
    "\n",
    "Boo.foo3_4()      # Exception (missing 1)\n",
    "Boo().foo3_4()    # Exception (missing 1)\n"
   ]
  },
  {
   "cell_type": "code",
   "execution_count": null,
   "metadata": {},
   "outputs": [],
   "source": [
    "matrix = [f'foo{i}_{j}' for i in range(1, 4) for j in range(1, 5)]\n",
    "\n",
    "print(matrix)"
   ]
  },
  {
   "cell_type": "code",
   "execution_count": 2,
   "metadata": {},
   "outputs": [
    {
     "data": {
      "text/plain": [
       "['foo1_1',\n",
       " 'foo1_2',\n",
       " 'foo1_3',\n",
       " 'foo1_4',\n",
       " 'foo2_1',\n",
       " 'foo2_2',\n",
       " 'foo2_3',\n",
       " 'foo2_4',\n",
       " 'foo3_1',\n",
       " 'foo3_2',\n",
       " 'foo3_3',\n",
       " 'foo3_4']"
      ]
     },
     "execution_count": 2,
     "metadata": {},
     "output_type": "execute_result"
    }
   ],
   "source": [
    "matrix = []\n",
    "\n",
    "for i in range(1, 4):\n",
    "    for j in range(1, 5):\n",
    "        matrix.append(f'foo{i}_{j}')\n",
    "matrix"
   ]
  },
  {
   "cell_type": "code",
   "execution_count": null,
   "metadata": {},
   "outputs": [],
   "source": [
    "i = True or False and False\n",
    "s = fr'I am a {(('cat' * i))}fish{'.' * (not i)}'\n",
    "print(s)\n",
    "\n",
    "# Output:\n",
    "#   A: I am a catcatfish.\n",
    "#   B: I am a catfishfish.\n",
    "#   C: I am a catfish.\n",
    "#   D: I am a cat.\n",
    "#   E: I am a fish.\n",
    "#   F: 以上皆非"
   ]
  },
  {
   "cell_type": "code",
   "execution_count": null,
   "metadata": {},
   "outputs": [],
   "source": [
    "def get_diff_int_ids(lo: int = 0, hi: int = 10) -> list:\n",
    "    diff_ids = []\n",
    "    for i in range(lo, hi + 1):\n",
    "        this_id = id(i)\n",
    "        if i > lo:\n",
    "            diff_ids.append(this_id - previous_id)\n",
    "        previous_id = this_id\n",
    "    return diff_ids\n",
    "\n",
    "\n",
    "print(get_diff_int_ids())      # [32, 32, 32, 32, 32, 32, 32, 32, 32, 32]\n",
    "print(get_diff_int_ids(3, 6))  # [32, 32, 32]\n",
    "print(get_diff_int_ids(5, 5))  # []\n",
    "\n",
    "# 利用以下哪個函數可以將 get_diff_int_ids() 內容改寫成 list comprehension？\n",
    "#   A: sum()\n",
    "#   B: max()\n",
    "#   C: zip()\n",
    "#   D: round()\n",
    "#   E: sorted()\n",
    "#   F: any()"
   ]
  },
  {
   "cell_type": "code",
   "execution_count": null,
   "metadata": {},
   "outputs": [],
   "source": [
    "def get_diff_int_ids(lo: int = 0, hi: int = 10) -> list:\n",
    "    return [id(curr) - id(prev) for prev, curr in zip(range(lo, hi), range(lo + 1, hi + 1))]\n"
   ]
  },
  {
   "cell_type": "code",
   "execution_count": null,
   "metadata": {},
   "outputs": [],
   "source": [
    "diff_ids = [id(curr) - id(prev) for prev, curr in zip(range(9), range(1, 10))]\n",
    "print(diff_ids)\n"
   ]
  },
  {
   "cell_type": "code",
   "execution_count": 1,
   "metadata": {},
   "outputs": [
    {
     "name": "stdout",
     "output_type": "stream",
     "text": [
      "\n",
      "1. id(a) == id(b) = False\n",
      "2. id(a) == id(b) = True\n",
      "3. id(a) == id(b) = False\n",
      "4-1. id(int(1000.0)) = 134808594886800\n",
      "4-2. id(int(2000.0)) = 134808594886800\n",
      "4-3. id(int(1000.0)) == id(int(2000.0)) = True\n"
     ]
    }
   ],
   "source": [
    "print()\n",
    "a = \"hello Alex\"\n",
    "b = \"hello Alex\"\n",
    "print(f'1. {id(a) == id(b) = }')\n",
    "\n",
    "a, b = \"hello Alex\", \"hello Alex\"\n",
    "print(f'2. {id(a) == id(b) = }')\n",
    "\n",
    "a, b = float(1000), float(1000)\n",
    "print(f'3. {id(a) == id(b) = }')\n",
    "print(f'4-1. {id(int(1000.0)) = }')\n",
    "print(f'4-2. {id(int(2000.0)) = }')\n",
    "print(f'4-3. {id(int(1000.0)) == id(int(2000.0)) = }')\n"
   ]
  },
  {
   "cell_type": "code",
   "execution_count": null,
   "metadata": {},
   "outputs": [
    {
     "name": "stdout",
     "output_type": "stream",
     "text": [
      "x=1\ty=[2]\tz=3\n"
     ]
    }
   ],
   "source": [
    "# Quiz\n",
    "x, *y, z = (1, 2, 3)\n",
    "print(f'{x=}\\t{y=}\\t{z=}')\n",
    "\n",
    "# A) x=1\ty=[2]\tz=3\n",
    "# B) x=[1]\ty=[2]\tz=[3]\n",
    "# C) x=1\ty=(2)\tz=3\n",
    "# D) x=(1)\ty=(2)\tz=(3)\n",
    "# E) x=1\ty=2\t\tz=3\n",
    "# F) 以上皆非"
   ]
  }
 ],
 "metadata": {
  "kernelspec": {
   "display_name": ".venv",
   "language": "python",
   "name": "python3"
  },
  "language_info": {
   "codemirror_mode": {
    "name": "ipython",
    "version": 3
   },
   "file_extension": ".py",
   "mimetype": "text/x-python",
   "name": "python",
   "nbconvert_exporter": "python",
   "pygments_lexer": "ipython3",
   "version": "3.13.1"
  }
 },
 "nbformat": 4,
 "nbformat_minor": 2
}
